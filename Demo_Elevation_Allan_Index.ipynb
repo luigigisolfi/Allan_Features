{
 "cells": [
  {
   "cell_type": "code",
   "execution_count": 1,
   "id": "1d0875a8-ef4f-42cd-8caa-7f1ed90c9da5",
   "metadata": {},
   "outputs": [],
   "source": [
    "from get_station_info_library import *\n",
    "from read_allan_index import *\n",
    "import os\n",
    "import matplotlib.pyplot as plt\n",
    "import numpy as np"
   ]
  },
  {
   "cell_type": "code",
   "execution_count": 2,
   "id": "82749b65-ad83-4304-85d4-7894d6b44b41",
   "metadata": {},
   "outputs": [
    {
     "name": "stdout",
     "output_type": "stream",
     "text": [
      "end\n",
      "Ground Station Dictionary:\n",
      "{'CEDUNA': {'site_type': 'fixed', 'site_ID': 'Cd', 'elev': '164.62', 'long': '-133:48:35.', 'lat': '-31:52:03.7'}, 'HOBART12': {'site_type': 'fixed', 'site_ID': 'Hb', 'elev': '40.98', 'long': '-147:26:17.', 'lat': '-42:48:20.1', 'site_velocity': '0.000000'}, 'YARRA12M': {'site_type': 'fixed', 'site_ID': 'Yg', 'elev': '248.24', 'long': '-115:20:44.', 'lat': '-29:02:49.7', 'site_velocity': '0.000000'}, 'KATH12M': {'site_type': 'fixed', 'site_ID': 'Ke', 'elev': '189.16', 'long': '-132:09:08.', 'lat': '-14:22:31.7', 'site_velocity': '0.000000'}, 'WARK': {'site_type': 'fixed', 'site_ID': 'Ww', 'elev': '127.89', 'long': '-174:39:47.', 'lat': '-36:26:05.3', 'site_velocity': '0.000000'}, 'YAMAGU32': {'site_type': 'fixed', 'site_ID': 'Ym', 'elev': '165.62', 'long': '-131:33:25.', 'lat': '34:12:57.7'}, 'TIANMA65': {'site_type': 'fixed', 'site_ID': 'T6', 'elev': '49.16', 'long': '-121:08:09.', 'lat': '31:05:31.6'}, 'KUNMING': {'site_type': 'fixed', 'site_ID': 'Km', 'elev': '1974.25', 'long': '-102:47:45.', 'lat': '25:01:38.4'}, 'KVNUS': {'site_type': 'fixed', 'site_ID': 'Ku', 'elev': '160.61', 'long': '-129:14:59.', 'lat': '35:32:44.2'}, 'BADARY': {'site_type': 'fixed', 'site_ID': 'Bd', 'elev': '821.60', 'long': '-102:14:02.', 'lat': '51:46:12.9'}, 'URUMQI': {'site_type': 'fixed', 'site_ID': 'Ur', 'elev': '2033.21', 'long': '-087:10:41.', 'lat': '43:28:17.4'}, 'ZELENCHK': {'site_type': 'fixed', 'site_ID': 'Zc', 'elev': '1175.07', 'long': '-041:33:54.', 'lat': '43:47:16.1'}, 'HART': {'site_type': 'fixed', 'site_ID': 'Hh', 'elev': '1415.71', 'long': '-027:41:07.', 'lat': '-25:53:23.1'}, 'WETTZELL': {'site_type': 'fixed', 'site_ID': 'Wz', 'elev': '669.13', 'long': '-012:52:38.', 'lat': '49:08:42.0'}, 'SVETLOE': {'site_type': 'fixed', 'site_ID': 'Sv', 'elev': '86.04', 'long': '-029:46:55.', 'lat': '60:31:56.4'}, 'MEDICINA': {'site_type': 'fixed', 'site_ID': 'Mc', 'elev': '67.16', 'long': '-011:38:49.', 'lat': '44:31:13.8'}, 'WSTRBORK': {'site_type': 'fixed', 'site_ID': 'Wb', 'elev': '71.21', 'long': '-006:38:00.', 'lat': '52:54:55.1'}, 'ONSALA60': {'site_type': 'fixed', 'site_ID': 'On', 'elev': '59.30', 'long': '-011:55:34.', 'lat': '57:23:45.0'}, 'YEBES40M': {'site_type': 'fixed', 'site_ID': 'Ys', 'elev': '988.92', 'long': '003:05:12.', 'lat': '40:31:28.8'}, 'VLBA_SC': {'site_type': 'fixed', 'site_ID': 'Sc', 'elev': '-15.02', 'long': '064:35:01.', 'lat': '17:45:23.7'}, 'VLBA_HN': {'site_type': 'fixed', 'site_ID': 'Hn', 'elev': '295.56', 'long': '071:59:11.', 'lat': '42:56:01.0'}, 'VLBA_NL': {'site_type': 'fixed', 'site_ID': 'Nl', 'elev': '222.24', 'long': '091:34:26.', 'lat': '41:46:17.1'}, 'VLBA_FD': {'site_type': 'fixed', 'site_ID': 'Fd', 'elev': '1606.42', 'long': '103:56:41.', 'lat': '30:38:06.1'}, 'VLBA_LA': {'site_type': 'fixed', 'site_ID': 'La', 'elev': '1962.43', 'long': '106:14:44.', 'lat': '35:46:30.4'}, 'VLBA_KP': {'site_type': 'fixed', 'site_ID': 'Kp', 'elev': '1901.99', 'long': '111:36:44.', 'lat': '31:57:22.7'}, 'VLBA_PT': {'site_type': 'fixed', 'site_ID': 'Pt', 'elev': '2364.67', 'long': '108:07:09.', 'lat': '34:18:03.7'}, 'VLBA_BR': {'site_type': 'fixed', 'site_ID': 'Br', 'elev': '250.48', 'long': '119:40:59.', 'lat': '48:07:52.4'}, 'VLBA_OV': {'site_type': 'fixed', 'site_ID': 'Ov', 'elev': '1196.31', 'long': '118:16:37.', 'lat': '37:13:53.9'}, 'VLBA_MK': {'site_type': 'fixed', 'site_ID': 'Mk', 'elev': '3763.02', 'long': '155:27:19.', 'lat': '19:48:05.0'}}\n"
     ]
    }
   ],
   "source": [
    "file_path = '../Allan_Features/mex_dataset/Phobos/GR035/GR035.vix'\n",
    "ground_station_data = extract_ground_station_dict(file_path)\n",
    "if ground_station_data:\n",
    "    print(\"Ground Station Dictionary:\")\n",
    "    print(ground_station_data)\n",
    "else:\n",
    "    print(\"Ground Station Section Not Found.\")"
   ]
  },
  {
   "cell_type": "code",
   "execution_count": 2,
   "id": "03e75fab-d647-4de5-bcb3-bcd84842d690",
   "metadata": {},
   "outputs": [
    {
     "name": "stdout",
     "output_type": "stream",
     "text": [
      "Allan Index not found or could not be read.\n"
     ]
    },
    {
     "data": {
      "image/png": "[encoded data removed]",
      "text/plain": [
       "<Figure size 640x480 with 1 Axes>"
      ]
     },
     "metadata": {},
     "output_type": "display_data"
    }
   ],
   "source": [
    "import os\n",
    "import numpy as np\n",
    "import matplotlib.pyplot as plt\n",
    "\n",
    "mex_dataset_path = './mex_dataset/Phobos/GR035'\n",
    "allan_index_list = []\n",
    "site_ID_file_list = []\n",
    "elev_list = []\n",
    "\n",
    "files = './mex_dataset/gr035/complete/Fdets.mex.2013.12.28.On.complete.r2i.txt'\n",
    "# Step 1: Collect data from files\n",
    "for file in os.listdir(mex_dataset_path):\n",
    "    if os.path.isdir(os.path.join(mex_dataset_path, file)):\n",
    "        try:\n",
    "            allan_index_path = os.path.join(mex_dataset_path, file, 'allan_index.txt')\n",
    "            if os.path.exists(allan_index_path):\n",
    "                allan_index = read_allan_index(allan_index_path)\n",
    "                if allan_index is not None:\n",
    "                    allan_index_list.append(float(allan_index))\n",
    "                    site_ID_file = allan_index_path.split('/')[-2].split('.')[-3]\n",
    "                    site_ID_file_list.append(site_ID_file)\n",
    "            else:\n",
    "                print(\"Allan Index not found or could not be read.\")\n",
    "        except:\n",
    "            continue\n",
    "\n",
    "# Step 2: Process elevations and collect indices with errors\n",
    "i_list = []  # List to store indices of elements to remove\n",
    "for i, site_ID_file in enumerate(site_ID_file_list):\n",
    "    try:\n",
    "        site = ID_to_site(site_ID_file)\n",
    "        elev = ground_station_data[site]['elev']\n",
    "        elev_list.append(float(elev))\n",
    "    except Exception as e:\n",
    "        elev_list.append(float(elev))\n",
    "        i_list.append(i)  # Collect indices with errors\n",
    "\n",
    "# Step 3: Reverse iterate to remove elements without modifying other indices\n",
    "for i in reversed(i_list):  # Iterate in reverse to avoid shifting indices\n",
    "    print(f\"Removing index {i} from lists due to error\")\n",
    "    allan_index_list.pop(i)\n",
    "    site_ID_file_list.pop(i)\n",
    "    elev_list.pop(i)\n",
    "\n",
    "# Step 4: Plotting\n",
    "indexes = np.sort(elev_list)\n",
    "\n",
    "for i in range(len(site_ID_file_list)):\n",
    "    plt.scatter(elev_list[i], allan_index_list[i], label=site_ID_file_list[i])\n",
    "\n",
    "#plt.title('Allan Index vs Elevation, GR035 Experiment')\n",
    "plt.title('Allan Index vs Elevation, GR035 Experiment')\n",
    "plt.xlabel('Elevation')\n",
    "plt.ylabel('Allan Index')\n",
    "plt.axhline(1, label = 'White Noise')\n",
    "plt.xticks(fontsize=10, rotation=45)\n",
    "plt.legend()\n",
    "plt.show()"
   ]
  },
  {
   "cell_type": "code",
   "execution_count": 17,
   "id": "fcad4b39-d58c-4dd7-b22d-ec8c5cc6bc1b",
   "metadata": {},
   "outputs": [
    {
     "data": {
      "text/plain": [
       "15"
      ]
     },
     "execution_count": 17,
     "metadata": {},
     "output_type": "execute_result"
    }
   ],
   "source": [
    "len(site_ID_file_list)"
   ]
  },
  {
   "cell_type": "code",
   "execution_count": 18,
   "id": "6693d0c2-5c9b-443e-8bbf-3a49a8d7797f",
   "metadata": {},
   "outputs": [
    {
     "data": {
      "text/plain": [
       "13"
      ]
     },
     "execution_count": 18,
     "metadata": {},
     "output_type": "execute_result"
    }
   ],
   "source": [
    "len(elev_list)"
   ]
  },
  {
   "cell_type": "code",
   "execution_count": 19,
   "id": "af2ac847-7605-47b1-b73f-213e17a700cc",
   "metadata": {},
   "outputs": [
    {
     "data": {
      "text/plain": [
       "15"
      ]
     },
     "execution_count": 19,
     "metadata": {},
     "output_type": "execute_result"
    }
   ],
   "source": [
    "len(allan_index_list)"
   ]
  },
  {
   "cell_type": "code",
   "execution_count": null,
   "id": "61a9a846-fdf0-4263-a310-867b4a62c55d",
   "metadata": {},
   "outputs": [],
   "source": []
  }
 ],
 "metadata": {
  "kernelspec": {
   "display_name": "Python 3 (ipykernel)",
   "language": "python",
   "name": "python3"
  },
  "language_info": {
   "codemirror_mode": {
    "name": "ipython",
    "version": 3
   },
   "file_extension": ".py",
   "mimetype": "text/x-python",
   "name": "python",
   "nbconvert_exporter": "python",
   "pygments_lexer": "ipython3",
   "version": "3.12.2"
  }
 },
 "nbformat": 4,
 "nbformat_minor": 5
}
