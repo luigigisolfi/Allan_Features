{
 "cells": [
  {
   "cell_type": "markdown",
   "id": "a82aa68a-f7e7-4bde-994f-897b198880d3",
   "metadata": {},
   "source": [
    "# Objectives\n",
    "This notebook showcases the two two ways implemented to get an idea of the data we are dealing with. \n",
    "More specifically, the use of the functions:\n",
    "\n",
    "- *plot_parameters_error_bounds*\n",
    "\n",
    "- *get_allan_index*\n",
    "\n",
    "- *Get_All_Outputs*\n",
    "\n",
    "is showcased. \n",
    "\n",
    "## Plotting a single fdets file\n",
    "First, we initialize the object_fdets object and extract the data.\n",
    "Then, we use the extracted data to visualize some information and get an idea of \"how close\" our data follows the white noise."
   ]
  },
  {
   "cell_type": "code",
   "execution_count": null,
   "id": "cb8ecb80-117d-4588-984e-7525f22e6833",
   "metadata": {},
   "outputs": [],
   "source": [
    "from Allan_Slope_Library import Allan_Utility_Functions\n",
    "object = Allan_Utility_Functions()\n",
    "object_fdets = object.ProcessFdets()"
   ]
  },
  {
   "cell_type": "code",
   "execution_count": null,
   "id": "3fb7de1a-a628-4ee6-b505-17ef64dbc1d3",
   "metadata": {},
   "outputs": [],
   "source": [
    "extracted_data_1 = object_fdets.extract_parameters('/Users/lgisolfi/Desktop/data_archiving-1.0/small_dataset/juice/jc230417/Hbe/dop1/Fdets.jui2023.04.17.Hb.0005.r2i.txt')\n",
    "object_fdets.plot_parameters_error_bounds(extracted_data_1, suppress = False)\n",
    "\n",
    "extracted_data_2 = object_fdets.extract_parameters('/Users/lgisolfi/Desktop/data_archiving-1.0/small_dataset/insight/ED045A/Fdets.min2020.02.22.Bd.0001.r2i.txt')\n",
    "object_fdets.plot_parameters_error_bounds(extracted_data_2, suppress = False)\n",
    "\n",
    "extracted_data_3 = object_fdets.extract_parameters('/Users/lgisolfi/Desktop/data_archiving-1.0/small_dataset/insight/ED045A/Fdets.min2020.02.22.T6.0005.r2i.txt')\n",
    "object_fdets.plot_parameters_error_bounds(extracted_data_3, suppress = False)\n",
    "\n",
    "extracted_data_4 = object_fdets.extract_parameters('/Users/lgisolfi/Desktop/data_archiving-1.0/dataset/mex/Phobos/GR035/Fdets.mex2013.12.28.At.r2i.txt')\n",
    "object_fdets.plot_parameters_error_bounds(extracted_data_4, suppress = False)"
   ]
  },
  {
   "cell_type": "markdown",
   "id": "f29094c7-b854-469c-a28b-cbd51db6cb40",
   "metadata": {},
   "source": [
    "# Getting the Allan Index\n",
    "Looking at the above 4 Modified Allan Deviation plots, it looks like the first two better \"follow\" the white noise, while the last one looks a bit off. \n",
    "Let's see if the *get_allan_index* function confirms this. \n",
    "As you can see from the output of the following cell, the third allan index is the lowest one, while the first two are closer to 1. Confirmed!"
   ]
  },
  {
   "cell_type": "code",
   "execution_count": null,
   "id": "55d42319-cb53-47c4-a002-83ed3e222011",
   "metadata": {},
   "outputs": [],
   "source": [
    "first = object_fdets.get_allan_index(extracted_data_1, save_dir = '/Users/lgisolfi/Desktop/data_archiving-1.0/small_dataset/juice/jc230417/Hbe/dop1/Fdets.jui2023.04.17.Hb.0005.r2i',suppress = False)\n",
    "print(f'First Allan Index: {first}\\n')\n",
    "second = object_fdets.get_allan_index(extracted_data_2, save_dir = '/Users/lgisolfi/Desktop/data_archiving-1.0/small_dataset/insight/ED045A/Fdets.min2020.02.22.Bd.0001.r2i',suppress = False)\n",
    "print(f'Second Allan Index: {second}\\n')\n",
    "third = object_fdets.get_allan_index(extracted_data_3, save_dir = '/Users/lgisolfi/Desktop/data_archiving-1.0/small_dataset/insight/ED045A/Fdets.min2020.02.22.T6.0005.r2i',suppress = False)\n",
    "print(f'Third Allan Index: {third}\\n')\n",
    "fourth = object_fdets.get_allan_index(extracted_data_4, save_dir = '/Users/lgisolfi/Desktop/data_archiving-1.0/small_dataset/insight/ED045A/Fdets.min2020.02.22.T6.0005.r2i',suppress = False)\n",
    "print(f'Fourth Allan Index: {fourth}\\n')"
   ]
  },
  {
   "cell_type": "markdown",
   "id": "e6cd73c0-766a-457c-a23a-a2be42f5b4b2",
   "metadata": {},
   "source": [
    "## Saving the Plots (JUICE)\n",
    "The function *Get_All_Outputs(root_folder)* allows to create and save the plots. \n",
    "\n",
    "If save_plots = True: saves the mADEV plots\n",
    "If save_index = True: creates Allan Index files and saves them\n",
    "\n",
    "The following cell creates all the Allan Deviation and SNR plots in each *dataset/juice* folder.\n",
    "Uncomment it only if replotting is necessary"
   ]
  },
  {
   "cell_type": "code",
   "execution_count": null,
   "id": "ee3deb22-43de-4aec-a6b3-3a30533734d7",
   "metadata": {},
   "outputs": [],
   "source": [
    "root_folder = '/Users/lgisolfi/Desktop/data_archiving-1.0/small_dataset/juice'\n",
    "object_fdets.Get_All_Outputs(root_folder, save_index = True, save_plots = True)"
   ]
  },
  {
   "cell_type": "markdown",
   "id": "d8adf9cd-796e-4250-bd09-e5be9cdffa91",
   "metadata": {},
   "source": [
    "## Saving the Plots (InSight)\n",
    "The following cell creates all the Allan Deviation and SNR plots in each *dataset/Insight* folder.\n",
    "\n",
    "If save_plots = True: saves the mADEV plots\n",
    "If save_index = True: creates Allan Index files and saves them\n",
    "\n",
    "Uncomment it only if replotting is necessary"
   ]
  },
  {
   "cell_type": "code",
   "execution_count": null,
   "id": "ba45eea5-655c-4e92-bfca-aa8029a28d73",
   "metadata": {},
   "outputs": [],
   "source": [
    "root_folder = '/Users/lgisolfi/Desktop/data_archiving-1.0/small_dataset/insight'\n",
    "object_fdets.Get_All_Outputs(root_folder, save_plots = True, save_index = True)"
   ]
  },
  {
   "cell_type": "markdown",
   "id": "c25f602f-4f0b-49f4-a6b2-3bb6e0104e8e",
   "metadata": {},
   "source": [
    "# VEX data\n",
    "The following cell can be run only if you have access to dataset folder (in this repo, only small_dataset is available)"
   ]
  },
  {
   "cell_type": "code",
   "execution_count": null,
   "id": "24042a92-9a44-4b46-8c97-817b757be6bc",
   "metadata": {},
   "outputs": [],
   "source": [
    "root_folder = '/Users/lgisolfi/Desktop/data_archiving-1.0/dataset/fdets_summary'\n",
    "object_fdets.Get_All_Outputs(root_folder, save_plots = True, save_index = True)"
   ]
  },
  {
   "cell_type": "code",
   "execution_count": null,
   "id": "cf981efa-cb00-4d23-a1d6-d975a346549d",
   "metadata": {},
   "outputs": [],
   "source": []
  }
 ],
 "metadata": {
  "kernelspec": {
   "display_name": "Python 3 (ipykernel)",
   "language": "python",
   "name": "python3"
  },
  "language_info": {
   "codemirror_mode": {
    "name": "ipython",
    "version": 3
   },
   "file_extension": ".py",
   "mimetype": "text/x-python",
   "name": "python",
   "nbconvert_exporter": "python",
   "pygments_lexer": "ipython3",
   "version": "3.12.4"
  }
 },
 "nbformat": 4,
 "nbformat_minor": 5
}
