{
 "cells": [
  {
   "cell_type": "code",
   "execution_count": null,
   "id": "e596c25d",
   "metadata": {},
   "outputs": [],
   "source": [
    "\"\"\"\n",
    "This script might be useful for splitting long scans for quicker and targeted analysis (for examples, mex gr035 are very long and dense).\n",
    "To use it with other missions, just change the paths accordingly.\n",
    "\n",
    "NOTE\n",
    "A function performing the opposite operation (i.e. attaching multiple single scans, creating a complete scan) can also be found in\n",
    "the pride_characterization_library.py, under the utilities class.\n",
    "\"\"\"\n",
    "from tudatpy.interface import spice\n",
    "import os\n",
    "import sys\n",
    "sys.path.append('/Users/lgisolfi/ClionProjects/Allan_Features/Analysis_Scripts/') # Adjust this to your actual library location\n",
    "from pride_characterization_library import PrideDopplerCharacterization"
   ]
  },
  {
   "cell_type": "code",
   "execution_count": null,
   "id": "1b1ca775",
   "metadata": {},
   "outputs": [],
   "source": [
    "spice.load_standard_kernels()\n",
    "pride = PrideDopplerCharacterization()\n",
    "process_fdets = pride.ProcessFdets()\n",
    "utilities = pride.Utilities()\n",
    "analysis = pride.Analysis(process_fdets, utilities)"
   ]
  },
  {
   "cell_type": "code",
   "execution_count": null,
   "id": "6c5f9ed7",
   "metadata": {},
   "outputs": [],
   "source": [
    "time_interval_minutes= 120\n",
    "for fdets_file in os.listdir(f'/Users/lgisolfi/Desktop/data_archiving-1.0/dataset/mex/gr035/complete'):\n",
    "    utilities.split_scan_by_time(\n",
    "       input_folder=f'/Users/lgisolfi/Desktop/data_archiving-1.0/dataset/mex/gr035/complete',\n",
    "        fdets_file = fdets_file,\n",
    "        time_interval_minutes= time_interval_minutes,\n",
    "        output_folder= f'/Users/lgisolfi/Desktop/data_archiving-1.0/dataset/mex/gr035/complete_{time_interval_minutes}_minutes'\n",
    "    )\n",
    "exit()"
   ]
  }
 ],
 "metadata": {
  "jupytext": {
   "cell_metadata_filter": "-all",
   "main_language": "python",
   "notebook_metadata_filter": "-all"
  },
  "kernelspec": {
   "display_name": "Python 3 (ipykernel)",
   "language": "python",
   "name": "python3"
  },
  "language_info": {
   "codemirror_mode": {
    "name": "ipython",
    "version": 3
   },
   "file_extension": ".py",
   "mimetype": "text/x-python",
   "name": "python",
   "nbconvert_exporter": "python",
   "pygments_lexer": "ipython3",
   "version": "3.11.12"
  }
 },
 "nbformat": 4,
 "nbformat_minor": 5
}
