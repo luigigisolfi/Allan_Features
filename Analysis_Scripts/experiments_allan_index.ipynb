{
 "cells": [
  {
   "cell_type": "code",
   "execution_count": null,
   "id": "75f0fe74",
   "metadata": {},
   "outputs": [],
   "source": [
    "\"\"\"\n",
    "This script allows for plotting of the Modified Allan Deviation per mission_name, given a date_folder, for all stations.\n",
    "\"\"\"\n",
    "from pride_characterization_library import PrideDopplerCharacterization\n",
    "pride = PrideDopplerCharacterization() # Create PrideDopplerCharacterization Object\n",
    "process_fdets = pride.ProcessFdets() # Create ProcessFdets Object\n",
    "utilities = pride.Utilities() # Create Utilities Object\n",
    "analysis = pride.Analysis(process_fdets, utilities)  # Create Analysis Object"
   ]
  },
  {
   "cell_type": "code",
   "execution_count": null,
   "id": "d118699c",
   "metadata": {},
   "outputs": [],
   "source": [
    "# Experiments to analyze\n",
    "experiments_to_analyze = {'juice': ['juice_231019']}"
   ]
  },
  {
   "cell_type": "code",
   "execution_count": null,
   "id": "7a29d03e",
   "metadata": {
    "lines_to_next_cell": 2
   },
   "outputs": [],
   "source": [
    "for mission_name, dates in experiments_to_analyze.items():\n",
    "    for date in dates:\n",
    "        corresponding_month_folder = date[:-2]\n",
    "        fdets_folder_path = f'/Users/lgisolfi/Desktop/PRIDE_DATA_NEW/analysed_pride_data/{mission_name}/{corresponding_month_folder}/{date}/input/complete' #or insert your path\n",
    "        output_dir = f'/Users/lgisolfi/Desktop/PRIDE_DATA_NEW/analysed_pride_data/{mission_name}/{corresponding_month_folder}/{date}/output/' #or insert your path\n",
    "        tau_min = 0\n",
    "        tau_max = 100\n",
    "        save_dir = output_dir\n",
    "        suppress = False\n",
    "\n",
    "        analysis.get_all_stations_madev_plot(fdets_folder_path, mission_name, tau_min = tau_min, tau_max = tau_max, suppress = False, plot_madev_only = True, save_dir = output_dir)"
   ]
  }
 ],
 "metadata": {
  "jupytext": {
   "cell_metadata_filter": "-all",
   "main_language": "python",
   "notebook_metadata_filter": "-all"
  }
 },
 "nbformat": 4,
 "nbformat_minor": 5
}
